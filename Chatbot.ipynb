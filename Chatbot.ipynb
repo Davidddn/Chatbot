{
 "cells": [
  {
   "cell_type": "code",
   "execution_count": 1,
   "id": "e5a92516",
   "metadata": {},
   "outputs": [],
   "source": [
    "import json\n",
    "import numpy as np\n",
    "import tensorflow as tf\n",
    "from tensorflow import keras\n",
    "from sklearn.preprocessing import LabelEncoder\n",
    "import colorama\n",
    "colorama.init\n",
    "from colorama import Fore, Style, Back\n",
    "import random\n",
    "import pickle"
   ]
  },
  {
   "cell_type": "code",
   "execution_count": 2,
   "id": "5558327a",
   "metadata": {},
   "outputs": [],
   "source": [
    "with open('intent.json') as file:\n",
    "    data=json.load(file)"
   ]
  },
  {
   "cell_type": "code",
   "execution_count": 12,
   "id": "b0f71b0d",
   "metadata": {},
   "outputs": [],
   "source": [
    "def chat():\n",
    "    model = keras.models.load_model('chat_model')\n",
    "    with open('tokenizer.pickle', 'rb') as handle:\n",
    "        tokenizer = pickle.load(handle)\n",
    "    with open('label_encoder.pickle', 'rb') as enc:\n",
    "        lbl_encoder = pickle.load(enc)\n",
    "    max_len = 20\n",
    "    \n",
    "    while True:\n",
    "        print(Fore.LIGHTBLUE_EX +\"User: \" + Style.RESET_ALL, end = \"\")\n",
    "        inp = input()\n",
    "        if inp.lower() == \"quit\":\n",
    "            break\n",
    "            \n",
    "        result= model.predict(keras.preprocessing.sequence.pad_sequences(tokenizer.texts_to_sequences([inp]), \n",
    "                                                                        truncating = 'post', maxlen = max_len))\n",
    "        \n",
    "        tag = lbl_encoder.inverse_transform([np.argmax(result)])\n",
    "        \n",
    "        for i in data['intents']:\n",
    "            if i['intent'] == tag:\n",
    "                print(Fore.GREEN + \"ChatBot:\" + Style.RESET_ALL, np.random.choice(i['responses']))"
   ]
  },
  {
   "cell_type": "code",
   "execution_count": 13,
   "id": "00fcfc44",
   "metadata": {},
   "outputs": [
    {
     "name": "stdout",
     "output_type": "stream",
     "text": [
      "\u001b[33mStart messaging with the bot(type quit to stop)!\u001b[0m\n"
     ]
    }
   ],
   "source": [
    "print(Fore.YELLOW + \"Start messaging with the bot(type quit to stop)!\" + Style.RESET_ALL)"
   ]
  },
  {
   "cell_type": "code",
   "execution_count": 14,
   "id": "f88f397b",
   "metadata": {},
   "outputs": [
    {
     "name": "stdout",
     "output_type": "stream",
     "text": [
      "\u001b[94mUser: \u001b[0mHello\n",
      "1/1 [==============================] - 0s 39ms/step\n",
      "\u001b[32mChatBot:\u001b[0m Hello human, please tell me your GeniSys user\n",
      "\u001b[94mUser: \u001b[0m\n",
      "1/1 [==============================] - 0s 27ms/step\n",
      "\u001b[32mChatBot:\u001b[0m Bye! Come back again soon.\n",
      "\u001b[94mUser: \u001b[0mwhat is your name\n",
      "1/1 [==============================] - 0s 18ms/step\n",
      "\u001b[32mChatBot:\u001b[0m You can call me Geni\n",
      "\u001b[94mUser: \u001b[0mbye\n",
      "1/1 [==============================] - 0s 64ms/step\n",
      "\u001b[32mChatBot:\u001b[0m See you later\n",
      "\u001b[94mUser: \u001b[0mquit\n"
     ]
    }
   ],
   "source": [
    "chat()"
   ]
  },
  {
   "cell_type": "code",
   "execution_count": null,
   "id": "bcdd694c",
   "metadata": {},
   "outputs": [],
   "source": []
  }
 ],
 "metadata": {
  "kernelspec": {
   "display_name": "Python 3 (ipykernel)",
   "language": "python",
   "name": "python3"
  },
  "language_info": {
   "codemirror_mode": {
    "name": "ipython",
    "version": 3
   },
   "file_extension": ".py",
   "mimetype": "text/x-python",
   "name": "python",
   "nbconvert_exporter": "python",
   "pygments_lexer": "ipython3",
   "version": "3.9.7"
  }
 },
 "nbformat": 4,
 "nbformat_minor": 5
}
